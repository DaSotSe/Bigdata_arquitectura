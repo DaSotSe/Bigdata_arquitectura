{
 "cells": [
  {
   "cell_type": "markdown",
   "metadata": {
    "id": "rXszdrO5tOWE"
   },
   "source": [
    "# ¡Query Time!\n",
    "\n",
    "Ahora, vamos a comparar operaciones parecidas con ambas bases de datos.\n",
    "\n",
    "Comencemos haciendo un pequeño set-up:\n",
    "\n",
    "- El **firewall**! Este notebook tiene una dirección IP diferente, así que debemos agregarla a las reglas de Firewall **¿Alguien me puede guiar?**\n",
    "- **Instalar** las **librerías** necesarias\n",
    "- **Conectarse** a las bases de datos"
   ]
  },
  {
   "cell_type": "code",
   "execution_count": 28,
   "metadata": {
    "colab": {
     "base_uri": "https://localhost:8080/"
    },
    "executionInfo": {
     "elapsed": 99,
     "status": "ok",
     "timestamp": 1741290327513,
     "user": {
      "displayName": "David Sotelo",
      "userId": "06087624202067056946"
     },
     "user_tz": -60
    },
    "id": "WFtW2PJD2SAL",
    "outputId": "3079d056-3610-4ee0-a2b8-e5457c0dc480"
   },
   "outputs": [
    {
     "name": "stdout",
     "output_type": "stream",
     "text": [
      "34.60.162.179"
     ]
    }
   ],
   "source": [
    "!curl ipecho.net/plain"
   ]
  },
  {
   "cell_type": "code",
   "execution_count": 29,
   "metadata": {
    "colab": {
     "base_uri": "https://localhost:8080/"
    },
    "executionInfo": {
     "elapsed": 2820,
     "status": "ok",
     "timestamp": 1741290331477,
     "user": {
      "displayName": "David Sotelo",
      "userId": "06087624202067056946"
     },
     "user_tz": -60
    },
    "id": "sb77uTr62teC",
    "outputId": "2676c718-bbb3-4d52-86bb-ec09ee5bc3c9"
   },
   "outputs": [
    {
     "name": "stdout",
     "output_type": "stream",
     "text": [
      "Requirement already satisfied: psycopg2-binary in /usr/local/lib/python3.11/dist-packages (2.9.10)\n",
      "Requirement already satisfied: pymongo in /usr/local/lib/python3.11/dist-packages (4.11.2)\n",
      "Requirement already satisfied: dnspython<3.0.0,>=1.16.0 in /usr/local/lib/python3.11/dist-packages (from pymongo) (2.7.0)\n"
     ]
    }
   ],
   "source": [
    "!pip install psycopg2-binary pymongo # incluimos en el firewall la ip del notebook para conectarlo con mongod, tuvimos que hacer cambios en la consola de Mongo"
   ]
  },
  {
   "cell_type": "markdown",
   "metadata": {
    "id": "_PQMQ8ll4Bp7"
   },
   "source": [
    "### Vamos a conectarnos a nuestra DB Postgre:\n",
    "\n",
    "Necesitamos la IP!\n",
    "Vayamos a SQL -> Instances a ver nuestra DB"
   ]
  },
  {
   "cell_type": "code",
   "execution_count": 30,
   "metadata": {
    "colab": {
     "base_uri": "https://localhost:8080/"
    },
    "executionInfo": {
     "elapsed": 10,
     "status": "ok",
     "timestamp": 1741290336702,
     "user": {
      "displayName": "David Sotelo",
      "userId": "06087624202067056946"
     },
     "user_tz": -60
    },
    "id": "C_SYDta1446X",
    "outputId": "8b362c84-65a2-40fc-d39f-a16d8981b7b4"
   },
   "outputs": [
    {
     "name": "stdout",
     "output_type": "stream",
     "text": [
      "Conectando a la siguiente base de datos POSTGRE:\n",
      "dbname=postgres user=dota password=password host=34.88.249.70\n"
     ]
    }
   ],
   "source": [
    "dbname='postgres'\n",
    "ip='34.88.249.70' # Tu IP\n",
    "\n",
    "print(\"Conectando a la siguiente base de datos POSTGRE:\")\n",
    "print(\"dbname={} user=dota password=password host={}\".format(dbname, ip))"
   ]
  },
  {
   "cell_type": "code",
   "execution_count": 31,
   "metadata": {
    "executionInfo": {
     "elapsed": 885,
     "status": "ok",
     "timestamp": 1741290339212,
     "user": {
      "displayName": "David Sotelo",
      "userId": "06087624202067056946"
     },
     "user_tz": -60
    },
    "id": "8mdXRzzf5Dtl"
   },
   "outputs": [],
   "source": [
    "import psycopg2 #conectamos el notebook con psgrade SQL (nos acabamos de conectar antes con mongo tambien )\n",
    "conn = psycopg2.connect(\"dbname={} user=dota password=password host={}\".format(dbname, ip))\n",
    "postgres = conn.cursor()"
   ]
  },
  {
   "cell_type": "markdown",
   "metadata": {
    "id": "eXXI9wrX6XQb"
   },
   "source": [
    "Espera... ¿Qué pasa? 🤔\n",
    "\n",
    "Estamos utilizando otro notebook! Tiene otra IP!\n",
    "\n",
    "- Editemos la configuración de nuestra instancia de Postgre: Entremos en la configuración y en Connections -> Add a Network"
   ]
  },
  {
   "cell_type": "code",
   "execution_count": null,
   "metadata": {
    "colab": {
     "base_uri": "https://localhost:8080/",
     "height": 309
    },
    "executionInfo": {
     "elapsed": 23,
     "status": "error",
     "timestamp": 1741290341418,
     "user": {
      "displayName": "David Sotelo",
      "userId": "06087624202067056946"
     },
     "user_tz": -60
    },
    "id": "_q3PUfLB65hZ",
    "outputId": "ff2d14a1-f9f4-45d9-9229-aecc326dce6d"
   },
   "outputs": [
    {
     "ename": "OperationalError",
     "evalue": "connection to server on socket \"/var/run/postgresql/.s.PGSQL.5432\" failed: No such file or directory\n\tIs the server running locally and accepting connections on that socket?\n",
     "output_type": "error",
     "traceback": [
      "\u001b[0;31m---------------------------------------------------------------------------\u001b[0m",
      "\u001b[0;31mOperationalError\u001b[0m                          Traceback (most recent call last)",
      "\u001b[0;32m<ipython-input-32-7abb7e1e7039>\u001b[0m in \u001b[0;36m<cell line: 0>\u001b[0;34m()\u001b[0m\n\u001b[1;32m      1\u001b[0m \u001b[0;32mimport\u001b[0m \u001b[0mpsycopg2\u001b[0m \u001b[0;31m#No esta conectada el notebook a mongo\u001b[0m\u001b[0;34m\u001b[0m\u001b[0;34m\u001b[0m\u001b[0m\n\u001b[0;32m----> 2\u001b[0;31m \u001b[0mconn\u001b[0m \u001b[0;34m=\u001b[0m \u001b[0mpsycopg2\u001b[0m\u001b[0;34m.\u001b[0m\u001b[0mconnect\u001b[0m\u001b[0;34m(\u001b[0m\u001b[0;34m)\u001b[0m\u001b[0;34m\u001b[0m\u001b[0;34m\u001b[0m\u001b[0m\n\u001b[0m\u001b[1;32m      3\u001b[0m \u001b[0mpostgres\u001b[0m \u001b[0;34m=\u001b[0m \u001b[0mconn\u001b[0m\u001b[0;34m.\u001b[0m\u001b[0mcursor\u001b[0m\u001b[0;34m(\u001b[0m\u001b[0;34m)\u001b[0m\u001b[0;34m\u001b[0m\u001b[0;34m\u001b[0m\u001b[0m\n",
      "\u001b[0;32m/usr/local/lib/python3.11/dist-packages/psycopg2/__init__.py\u001b[0m in \u001b[0;36mconnect\u001b[0;34m(dsn, connection_factory, cursor_factory, **kwargs)\u001b[0m\n\u001b[1;32m    120\u001b[0m \u001b[0;34m\u001b[0m\u001b[0m\n\u001b[1;32m    121\u001b[0m     \u001b[0mdsn\u001b[0m \u001b[0;34m=\u001b[0m \u001b[0m_ext\u001b[0m\u001b[0;34m.\u001b[0m\u001b[0mmake_dsn\u001b[0m\u001b[0;34m(\u001b[0m\u001b[0mdsn\u001b[0m\u001b[0;34m,\u001b[0m \u001b[0;34m**\u001b[0m\u001b[0mkwargs\u001b[0m\u001b[0;34m)\u001b[0m\u001b[0;34m\u001b[0m\u001b[0;34m\u001b[0m\u001b[0m\n\u001b[0;32m--> 122\u001b[0;31m     \u001b[0mconn\u001b[0m \u001b[0;34m=\u001b[0m \u001b[0m_connect\u001b[0m\u001b[0;34m(\u001b[0m\u001b[0mdsn\u001b[0m\u001b[0;34m,\u001b[0m \u001b[0mconnection_factory\u001b[0m\u001b[0;34m=\u001b[0m\u001b[0mconnection_factory\u001b[0m\u001b[0;34m,\u001b[0m \u001b[0;34m**\u001b[0m\u001b[0mkwasync\u001b[0m\u001b[0;34m)\u001b[0m\u001b[0;34m\u001b[0m\u001b[0;34m\u001b[0m\u001b[0m\n\u001b[0m\u001b[1;32m    123\u001b[0m     \u001b[0;32mif\u001b[0m \u001b[0mcursor_factory\u001b[0m \u001b[0;32mis\u001b[0m \u001b[0;32mnot\u001b[0m \u001b[0;32mNone\u001b[0m\u001b[0;34m:\u001b[0m\u001b[0;34m\u001b[0m\u001b[0;34m\u001b[0m\u001b[0m\n\u001b[1;32m    124\u001b[0m         \u001b[0mconn\u001b[0m\u001b[0;34m.\u001b[0m\u001b[0mcursor_factory\u001b[0m \u001b[0;34m=\u001b[0m \u001b[0mcursor_factory\u001b[0m\u001b[0;34m\u001b[0m\u001b[0;34m\u001b[0m\u001b[0m\n",
      "\u001b[0;31mOperationalError\u001b[0m: connection to server on socket \"/var/run/postgresql/.s.PGSQL.5432\" failed: No such file or directory\n\tIs the server running locally and accepting connections on that socket?\n"
     ]
    }
   ],
   "source": [
    "import psycopg2 #No esta conectada el notebook a mongo // he revisado la creacion de la instancia el backet, la creacion de la instancia y he llegado al firewall\n",
    "conn = psycopg2.connect()# no he podido actualizar las IP  dentro de la instancia de mongo , habria que hacer varios pasos en la terminal de mongo , entrando en NANO\n",
    "postgres = conn.cursor()"
   ]
  },
  {
   "cell_type": "markdown",
   "metadata": {
    "id": "BxqCGqvP5p_d"
   },
   "source": [
    "### Conectémonos a nuestra DB Mongo:\n",
    "\n",
    "En ocasiones, si tenemos algún error con la conexión al server de Mongo, los problemas pueden tener varios orígenes:\n",
    "- Nuestra IP ha cambiado\n",
    "- La IP de la máquina virtual ha cambiado\n",
    "- Algún proceso de Mongo se ha quedado colgado en el servidor y debemos reiniciarlo (´\"sudo systemctl restart mongod\" en la consola SSH de la máquina)"
   ]
  },
  {
   "cell_type": "code",
   "execution_count": 26,
   "metadata": {
    "executionInfo": {
     "elapsed": 7,
     "status": "ok",
     "timestamp": 1741290240669,
     "user": {
      "displayName": "David Sotelo",
      "userId": "06087624202067056946"
     },
     "user_tz": -60
    },
    "id": "_4yVMgFn9EEX"
   },
   "outputs": [],
   "source": [
    "from pymongo import MongoClient\n",
    "from pprint import pprint\n",
    "client = MongoClient('34.147.84.54', 27017, directConnection=True)\n",
    "mongodb = client.dota"
   ]
  },
  {
   "cell_type": "markdown",
   "metadata": {
    "id": "mAmXVz9p9OIb"
   },
   "source": [
    "# Querys sencillas:\n",
    "\n",
    "Ahora que ya estamos conectados a ambas Bases de Datos, comencemos con algunas consultas sencillas:\n",
    "\n"
   ]
  },
  {
   "cell_type": "markdown",
   "metadata": {
    "id": "b968S9wY9awB"
   },
   "source": [
    "### Postgre:"
   ]
  },
  {
   "cell_type": "code",
   "execution_count": 16,
   "metadata": {
    "colab": {
     "base_uri": "https://localhost:8080/"
    },
    "executionInfo": {
     "elapsed": 134,
     "status": "ok",
     "timestamp": 1741289627279,
     "user": {
      "displayName": "David Sotelo",
      "userId": "06087624202067056946"
     },
     "user_tz": -60
    },
    "id": "9gt7kyza9dl3",
    "outputId": "42813682-7cd8-4a0b-8685-342fb8d9478f"
   },
   "outputs": [
    {
     "data": {
      "text/plain": [
       "(122,\n",
       " 'Tiny',\n",
       " 'Strength',\n",
       " \"Target Radius: 275 Damage: 25/35/45/55  Movement Speed Increase: 20/40/60  Dota Allstars: Looming from the rocky crags of Ashenra, the stone giants are born from the mountain itself. Tiny, a newly born giant, although small in size, has the strength of a hill. With his supreme strength, he is able to launch anything into the air, including huge amounts of soil to cause avalanches around his enemies. Because of his craggy exterior, enemies have a hard time attacking him. Over time, Tiny's body will grow bigger as the magnetic forces deep inside his granite heart pull rocks and soil to his rugged stone form. Dota 2: Coming to life as a chunk of stone, Tiny's origins are a mystery on which he continually speculates. He is a Stone Giant now, but what did he used to be? A splinter broken from a Golem's heel? A shard swept from a gargoyle-sculptor's workshop? A fragment of the Oracular Visage of Garthos? A deep curiosity drives him, and he travels the world tirelessly seeking his origins, his parentage, his people. As he roams, he gathers weight and size; the forces that weather lesser rocks, instead cause Tiny to grow and ever grow. Tiny is a strength hero with amazing potential. At first, Tiny is quite squishy, not having much health; he also has a pitiful mana pool (Blink Dagger is amazing on Tiny now, because it no longer uses mana). So, you've reached level 6. You should have a bracer, boots of speed (Which, depending on if somebody else has already bought Arcane Boots, you should build into Tranquil Boots later on), and maybe a bottle (Only if playing mid, especially against mana-burning heroes such as Anti-Mage, or Nyx). You should have helped your team get 1 or 2 kills, or maybe even have gotten them yourself. Now, you upgrade your ultimate. Last hits become a bit harder here, due to the attack speed loss from Grow, but you move faster and gain a damage boost of 50, which scaled up to 150 later on. Also, you grow bigger. You shed your little tiny hill skin and grow into a larger hill. Later on you'll go from your large hill into a small mountain, and then a rocky behemoth. Your mana pool should be enough to sustain a combo or 2 without any more mana gain. Using avalanche followed by toss should mostly finish off a hero. You should have a hyperstone by now, to offset your attack speed loss; build that later into Assault Cuirass to reduce the enemies' armour, and then aim for an Aghanim's Scepter. Now, the Scepter is a very environmentally friendly item, causing Tiny to brandish a tree to smash the other team (The tree does cleave damage and extra damage to buildings, and the Scepter also adds extra percentage of damage to toss. With Aghanim's, a successful combo can do over 1000 damage, and then you can finish them off while they're stunned).His Avalanche is a good stun to initiate, and then toss will usually finish off any escaping heroes in a mid to late-game teamfight. Utilizing Blink Dagger effectively isn't too hard, you simply teleport in front of them and smash them to bits. Tiny's pure mountain-like badassness just makes him an incredibly fun character to play.\",\n",
       " datetime.datetime(2017, 6, 13, 20, 20, 17, 485005))"
      ]
     },
     "execution_count": 16,
     "metadata": {},
     "output_type": "execute_result"
    }
   ],
   "source": [
    "# Vamos a hacer un select en la tabla heroes para que nos devuelva la información de Tiny\n",
    "postgres = conn.cursor()\n",
    "postgres.execute(\"SELECT * FROM heroes WHERE name = 'Tiny'\")\n",
    "postgres.fetchone()"
   ]
  },
  {
   "cell_type": "markdown",
   "metadata": {
    "id": "zEsEBJXVKzjy"
   },
   "source": [
    "### Mongo:"
   ]
  },
  {
   "cell_type": "code",
   "execution_count": 27,
   "metadata": {
    "colab": {
     "base_uri": "https://localhost:8080/",
     "height": 350
    },
    "executionInfo": {
     "elapsed": 30480,
     "status": "error",
     "timestamp": 1741290276279,
     "user": {
      "displayName": "David Sotelo",
      "userId": "06087624202067056946"
     },
     "user_tz": -60
    },
    "id": "wt9PDaAKKyjO",
    "outputId": "9138d08d-fbda-47cb-ac9f-68bf47c412a3"
   },
   "outputs": [
    {
     "ename": "ServerSelectionTimeoutError",
     "evalue": "34.147.84.54:27017: timed out (configured timeouts: socketTimeoutMS: 20000.0ms, connectTimeoutMS: 20000.0ms), Timeout: 30s, Topology Description: <TopologyDescription id: 67c9fb00c71aaf49716b1748, topology_type: Single, servers: [<ServerDescription ('34.147.84.54', 27017) server_type: Unknown, rtt: None, error=NetworkTimeout('34.147.84.54:27017: timed out (configured timeouts: socketTimeoutMS: 20000.0ms, connectTimeoutMS: 20000.0ms)')>]>",
     "output_type": "error",
     "traceback": [
      "\u001b[0;31m---------------------------------------------------------------------------\u001b[0m",
      "\u001b[0;31mServerSelectionTimeoutError\u001b[0m               Traceback (most recent call last)",
      "\u001b[0;32m<ipython-input-27-46648c82447f>\u001b[0m in \u001b[0;36m<cell line: 0>\u001b[0;34m()\u001b[0m\n\u001b[0;32m----> 1\u001b[0;31m \u001b[0mmongodb\u001b[0m\u001b[0;34m.\u001b[0m\u001b[0mheroes\u001b[0m\u001b[0;34m.\u001b[0m\u001b[0mfind_one\u001b[0m\u001b[0;34m(\u001b[0m\u001b[0;34m{\u001b[0m\u001b[0;34m'name'\u001b[0m\u001b[0;34m:\u001b[0m \u001b[0;34m'Tiny'\u001b[0m\u001b[0;34m}\u001b[0m\u001b[0;34m)\u001b[0m\u001b[0;34m\u001b[0m\u001b[0;34m\u001b[0m\u001b[0m\n\u001b[0m",
      "\u001b[0;32m/usr/local/lib/python3.11/dist-packages/pymongo/synchronous/collection.py\u001b[0m in \u001b[0;36mfind_one\u001b[0;34m(self, filter, *args, **kwargs)\u001b[0m\n\u001b[1;32m   1753\u001b[0m             \u001b[0mfilter\u001b[0m \u001b[0;34m=\u001b[0m \u001b[0;34m{\u001b[0m\u001b[0;34m\"_id\"\u001b[0m\u001b[0;34m:\u001b[0m \u001b[0mfilter\u001b[0m\u001b[0;34m}\u001b[0m\u001b[0;34m\u001b[0m\u001b[0;34m\u001b[0m\u001b[0m\n\u001b[1;32m   1754\u001b[0m         \u001b[0mcursor\u001b[0m \u001b[0;34m=\u001b[0m \u001b[0mself\u001b[0m\u001b[0;34m.\u001b[0m\u001b[0mfind\u001b[0m\u001b[0;34m(\u001b[0m\u001b[0mfilter\u001b[0m\u001b[0;34m,\u001b[0m \u001b[0;34m*\u001b[0m\u001b[0margs\u001b[0m\u001b[0;34m,\u001b[0m \u001b[0;34m**\u001b[0m\u001b[0mkwargs\u001b[0m\u001b[0;34m)\u001b[0m\u001b[0;34m\u001b[0m\u001b[0;34m\u001b[0m\u001b[0m\n\u001b[0;32m-> 1755\u001b[0;31m         \u001b[0;32mfor\u001b[0m \u001b[0mresult\u001b[0m \u001b[0;32min\u001b[0m \u001b[0mcursor\u001b[0m\u001b[0;34m.\u001b[0m\u001b[0mlimit\u001b[0m\u001b[0;34m(\u001b[0m\u001b[0;34m-\u001b[0m\u001b[0;36m1\u001b[0m\u001b[0;34m)\u001b[0m\u001b[0;34m:\u001b[0m\u001b[0;34m\u001b[0m\u001b[0;34m\u001b[0m\u001b[0m\n\u001b[0m\u001b[1;32m   1756\u001b[0m             \u001b[0;32mreturn\u001b[0m \u001b[0mresult\u001b[0m\u001b[0;34m\u001b[0m\u001b[0;34m\u001b[0m\u001b[0m\n\u001b[1;32m   1757\u001b[0m         \u001b[0;32mreturn\u001b[0m \u001b[0;32mNone\u001b[0m\u001b[0;34m\u001b[0m\u001b[0;34m\u001b[0m\u001b[0m\n",
      "\u001b[0;32m/usr/local/lib/python3.11/dist-packages/pymongo/synchronous/cursor.py\u001b[0m in \u001b[0;36m__next__\u001b[0;34m(self)\u001b[0m\n\u001b[1;32m   1279\u001b[0m \u001b[0;34m\u001b[0m\u001b[0m\n\u001b[1;32m   1280\u001b[0m     \u001b[0;32mdef\u001b[0m \u001b[0m__next__\u001b[0m\u001b[0;34m(\u001b[0m\u001b[0mself\u001b[0m\u001b[0;34m)\u001b[0m \u001b[0;34m->\u001b[0m \u001b[0m_DocumentType\u001b[0m\u001b[0;34m:\u001b[0m\u001b[0;34m\u001b[0m\u001b[0;34m\u001b[0m\u001b[0m\n\u001b[0;32m-> 1281\u001b[0;31m         \u001b[0;32mreturn\u001b[0m \u001b[0mself\u001b[0m\u001b[0;34m.\u001b[0m\u001b[0mnext\u001b[0m\u001b[0;34m(\u001b[0m\u001b[0;34m)\u001b[0m\u001b[0;34m\u001b[0m\u001b[0;34m\u001b[0m\u001b[0m\n\u001b[0m\u001b[1;32m   1282\u001b[0m \u001b[0;34m\u001b[0m\u001b[0m\n\u001b[1;32m   1283\u001b[0m     \u001b[0;32mdef\u001b[0m \u001b[0m__iter__\u001b[0m\u001b[0;34m(\u001b[0m\u001b[0mself\u001b[0m\u001b[0;34m)\u001b[0m \u001b[0;34m->\u001b[0m \u001b[0mCursor\u001b[0m\u001b[0;34m[\u001b[0m\u001b[0m_DocumentType\u001b[0m\u001b[0;34m]\u001b[0m\u001b[0;34m:\u001b[0m\u001b[0;34m\u001b[0m\u001b[0;34m\u001b[0m\u001b[0m\n",
      "\u001b[0;32m/usr/local/lib/python3.11/dist-packages/pymongo/synchronous/cursor.py\u001b[0m in \u001b[0;36mnext\u001b[0;34m(self)\u001b[0m\n\u001b[1;32m   1255\u001b[0m         \u001b[0;32mif\u001b[0m \u001b[0mself\u001b[0m\u001b[0;34m.\u001b[0m\u001b[0m_empty\u001b[0m\u001b[0;34m:\u001b[0m\u001b[0;34m\u001b[0m\u001b[0;34m\u001b[0m\u001b[0m\n\u001b[1;32m   1256\u001b[0m             \u001b[0;32mraise\u001b[0m \u001b[0mStopIteration\u001b[0m\u001b[0;34m\u001b[0m\u001b[0;34m\u001b[0m\u001b[0m\n\u001b[0;32m-> 1257\u001b[0;31m         \u001b[0;32mif\u001b[0m \u001b[0mlen\u001b[0m\u001b[0;34m(\u001b[0m\u001b[0mself\u001b[0m\u001b[0;34m.\u001b[0m\u001b[0m_data\u001b[0m\u001b[0;34m)\u001b[0m \u001b[0;32mor\u001b[0m \u001b[0mself\u001b[0m\u001b[0;34m.\u001b[0m\u001b[0m_refresh\u001b[0m\u001b[0;34m(\u001b[0m\u001b[0;34m)\u001b[0m\u001b[0;34m:\u001b[0m\u001b[0;34m\u001b[0m\u001b[0;34m\u001b[0m\u001b[0m\n\u001b[0m\u001b[1;32m   1258\u001b[0m             \u001b[0;32mreturn\u001b[0m \u001b[0mself\u001b[0m\u001b[0;34m.\u001b[0m\u001b[0m_data\u001b[0m\u001b[0;34m.\u001b[0m\u001b[0mpopleft\u001b[0m\u001b[0;34m(\u001b[0m\u001b[0;34m)\u001b[0m\u001b[0;34m\u001b[0m\u001b[0;34m\u001b[0m\u001b[0m\n\u001b[1;32m   1259\u001b[0m         \u001b[0;32melse\u001b[0m\u001b[0;34m:\u001b[0m\u001b[0;34m\u001b[0m\u001b[0;34m\u001b[0m\u001b[0m\n",
      "\u001b[0;32m/usr/local/lib/python3.11/dist-packages/pymongo/synchronous/cursor.py\u001b[0m in \u001b[0;36m_refresh\u001b[0;34m(self)\u001b[0m\n\u001b[1;32m   1203\u001b[0m                 \u001b[0mself\u001b[0m\u001b[0;34m.\u001b[0m\u001b[0m_exhaust\u001b[0m\u001b[0;34m,\u001b[0m\u001b[0;34m\u001b[0m\u001b[0;34m\u001b[0m\u001b[0m\n\u001b[1;32m   1204\u001b[0m             )\n\u001b[0;32m-> 1205\u001b[0;31m             \u001b[0mself\u001b[0m\u001b[0;34m.\u001b[0m\u001b[0m_send_message\u001b[0m\u001b[0;34m(\u001b[0m\u001b[0mq\u001b[0m\u001b[0;34m)\u001b[0m\u001b[0;34m\u001b[0m\u001b[0;34m\u001b[0m\u001b[0m\n\u001b[0m\u001b[1;32m   1206\u001b[0m         \u001b[0;32melif\u001b[0m \u001b[0mself\u001b[0m\u001b[0;34m.\u001b[0m\u001b[0m_id\u001b[0m\u001b[0;34m:\u001b[0m  \u001b[0;31m# Get More\u001b[0m\u001b[0;34m\u001b[0m\u001b[0;34m\u001b[0m\u001b[0m\n\u001b[1;32m   1207\u001b[0m             \u001b[0;32mif\u001b[0m \u001b[0mself\u001b[0m\u001b[0;34m.\u001b[0m\u001b[0m_limit\u001b[0m\u001b[0;34m:\u001b[0m\u001b[0;34m\u001b[0m\u001b[0;34m\u001b[0m\u001b[0m\n",
      "\u001b[0;32m/usr/local/lib/python3.11/dist-packages/pymongo/synchronous/cursor.py\u001b[0m in \u001b[0;36m_send_message\u001b[0;34m(self, operation)\u001b[0m\n\u001b[1;32m   1098\u001b[0m \u001b[0;34m\u001b[0m\u001b[0m\n\u001b[1;32m   1099\u001b[0m         \u001b[0;32mtry\u001b[0m\u001b[0;34m:\u001b[0m\u001b[0;34m\u001b[0m\u001b[0;34m\u001b[0m\u001b[0m\n\u001b[0;32m-> 1100\u001b[0;31m             response = client._run_operation(\n\u001b[0m\u001b[1;32m   1101\u001b[0m                 \u001b[0moperation\u001b[0m\u001b[0;34m,\u001b[0m \u001b[0mself\u001b[0m\u001b[0;34m.\u001b[0m\u001b[0m_unpack_response\u001b[0m\u001b[0;34m,\u001b[0m \u001b[0maddress\u001b[0m\u001b[0;34m=\u001b[0m\u001b[0mself\u001b[0m\u001b[0;34m.\u001b[0m\u001b[0m_address\u001b[0m\u001b[0;34m\u001b[0m\u001b[0;34m\u001b[0m\u001b[0m\n\u001b[1;32m   1102\u001b[0m             )\n",
      "\u001b[0;32m/usr/local/lib/python3.11/dist-packages/pymongo/_csot.py\u001b[0m in \u001b[0;36mcsot_wrapper\u001b[0;34m(self, *args, **kwargs)\u001b[0m\n\u001b[1;32m    117\u001b[0m                     \u001b[0;32mwith\u001b[0m \u001b[0m_TimeoutContext\u001b[0m\u001b[0;34m(\u001b[0m\u001b[0mtimeout\u001b[0m\u001b[0;34m)\u001b[0m\u001b[0;34m:\u001b[0m\u001b[0;34m\u001b[0m\u001b[0;34m\u001b[0m\u001b[0m\n\u001b[1;32m    118\u001b[0m                         \u001b[0;32mreturn\u001b[0m \u001b[0mfunc\u001b[0m\u001b[0;34m(\u001b[0m\u001b[0mself\u001b[0m\u001b[0;34m,\u001b[0m \u001b[0;34m*\u001b[0m\u001b[0margs\u001b[0m\u001b[0;34m,\u001b[0m \u001b[0;34m**\u001b[0m\u001b[0mkwargs\u001b[0m\u001b[0;34m)\u001b[0m\u001b[0;34m\u001b[0m\u001b[0;34m\u001b[0m\u001b[0m\n\u001b[0;32m--> 119\u001b[0;31m             \u001b[0;32mreturn\u001b[0m \u001b[0mfunc\u001b[0m\u001b[0;34m(\u001b[0m\u001b[0mself\u001b[0m\u001b[0;34m,\u001b[0m \u001b[0;34m*\u001b[0m\u001b[0margs\u001b[0m\u001b[0;34m,\u001b[0m \u001b[0;34m**\u001b[0m\u001b[0mkwargs\u001b[0m\u001b[0;34m)\u001b[0m\u001b[0;34m\u001b[0m\u001b[0;34m\u001b[0m\u001b[0m\n\u001b[0m\u001b[1;32m    120\u001b[0m \u001b[0;34m\u001b[0m\u001b[0m\n\u001b[1;32m    121\u001b[0m     \u001b[0;32mreturn\u001b[0m \u001b[0mcast\u001b[0m\u001b[0;34m(\u001b[0m\u001b[0mF\u001b[0m\u001b[0;34m,\u001b[0m \u001b[0mcsot_wrapper\u001b[0m\u001b[0;34m)\u001b[0m\u001b[0;34m\u001b[0m\u001b[0;34m\u001b[0m\u001b[0m\n",
      "\u001b[0;32m/usr/local/lib/python3.11/dist-packages/pymongo/synchronous/mongo_client.py\u001b[0m in \u001b[0;36m_run_operation\u001b[0;34m(self, operation, unpack_res, address)\u001b[0m\n\u001b[1;32m   1750\u001b[0m             )\n\u001b[1;32m   1751\u001b[0m \u001b[0;34m\u001b[0m\u001b[0m\n\u001b[0;32m-> 1752\u001b[0;31m         return self._retryable_read(\n\u001b[0m\u001b[1;32m   1753\u001b[0m             \u001b[0m_cmd\u001b[0m\u001b[0;34m,\u001b[0m\u001b[0;34m\u001b[0m\u001b[0;34m\u001b[0m\u001b[0m\n\u001b[1;32m   1754\u001b[0m             \u001b[0moperation\u001b[0m\u001b[0;34m.\u001b[0m\u001b[0mread_preference\u001b[0m\u001b[0;34m,\u001b[0m\u001b[0;34m\u001b[0m\u001b[0;34m\u001b[0m\u001b[0m\n",
      "\u001b[0;32m/usr/local/lib/python3.11/dist-packages/pymongo/synchronous/mongo_client.py\u001b[0m in \u001b[0;36m_retryable_read\u001b[0;34m(self, func, read_pref, session, operation, address, retryable, operation_id)\u001b[0m\n\u001b[1;32m   1859\u001b[0m             \u001b[0mretryable\u001b[0m \u001b[0;32mand\u001b[0m \u001b[0mself\u001b[0m\u001b[0;34m.\u001b[0m\u001b[0moptions\u001b[0m\u001b[0;34m.\u001b[0m\u001b[0mretry_reads\u001b[0m \u001b[0;32mand\u001b[0m \u001b[0;32mnot\u001b[0m \u001b[0;34m(\u001b[0m\u001b[0msession\u001b[0m \u001b[0;32mand\u001b[0m \u001b[0msession\u001b[0m\u001b[0;34m.\u001b[0m\u001b[0min_transaction\u001b[0m\u001b[0;34m)\u001b[0m\u001b[0;34m\u001b[0m\u001b[0;34m\u001b[0m\u001b[0m\n\u001b[1;32m   1860\u001b[0m         )\n\u001b[0;32m-> 1861\u001b[0;31m         return self._retry_internal(\n\u001b[0m\u001b[1;32m   1862\u001b[0m             \u001b[0mfunc\u001b[0m\u001b[0;34m,\u001b[0m\u001b[0;34m\u001b[0m\u001b[0;34m\u001b[0m\u001b[0m\n\u001b[1;32m   1863\u001b[0m             \u001b[0msession\u001b[0m\u001b[0;34m,\u001b[0m\u001b[0;34m\u001b[0m\u001b[0;34m\u001b[0m\u001b[0m\n",
      "\u001b[0;32m/usr/local/lib/python3.11/dist-packages/pymongo/_csot.py\u001b[0m in \u001b[0;36mcsot_wrapper\u001b[0;34m(self, *args, **kwargs)\u001b[0m\n\u001b[1;32m    117\u001b[0m                     \u001b[0;32mwith\u001b[0m \u001b[0m_TimeoutContext\u001b[0m\u001b[0;34m(\u001b[0m\u001b[0mtimeout\u001b[0m\u001b[0;34m)\u001b[0m\u001b[0;34m:\u001b[0m\u001b[0;34m\u001b[0m\u001b[0;34m\u001b[0m\u001b[0m\n\u001b[1;32m    118\u001b[0m                         \u001b[0;32mreturn\u001b[0m \u001b[0mfunc\u001b[0m\u001b[0;34m(\u001b[0m\u001b[0mself\u001b[0m\u001b[0;34m,\u001b[0m \u001b[0;34m*\u001b[0m\u001b[0margs\u001b[0m\u001b[0;34m,\u001b[0m \u001b[0;34m**\u001b[0m\u001b[0mkwargs\u001b[0m\u001b[0;34m)\u001b[0m\u001b[0;34m\u001b[0m\u001b[0;34m\u001b[0m\u001b[0m\n\u001b[0;32m--> 119\u001b[0;31m             \u001b[0;32mreturn\u001b[0m \u001b[0mfunc\u001b[0m\u001b[0;34m(\u001b[0m\u001b[0mself\u001b[0m\u001b[0;34m,\u001b[0m \u001b[0;34m*\u001b[0m\u001b[0margs\u001b[0m\u001b[0;34m,\u001b[0m \u001b[0;34m**\u001b[0m\u001b[0mkwargs\u001b[0m\u001b[0;34m)\u001b[0m\u001b[0;34m\u001b[0m\u001b[0;34m\u001b[0m\u001b[0m\n\u001b[0m\u001b[1;32m    120\u001b[0m \u001b[0;34m\u001b[0m\u001b[0m\n\u001b[1;32m    121\u001b[0m     \u001b[0;32mreturn\u001b[0m \u001b[0mcast\u001b[0m\u001b[0;34m(\u001b[0m\u001b[0mF\u001b[0m\u001b[0;34m,\u001b[0m \u001b[0mcsot_wrapper\u001b[0m\u001b[0;34m)\u001b[0m\u001b[0;34m\u001b[0m\u001b[0;34m\u001b[0m\u001b[0m\n",
      "\u001b[0;32m/usr/local/lib/python3.11/dist-packages/pymongo/synchronous/mongo_client.py\u001b[0m in \u001b[0;36m_retry_internal\u001b[0;34m(self, func, session, bulk, operation, is_read, address, read_pref, retryable, operation_id)\u001b[0m\n\u001b[1;32m   1826\u001b[0m             \u001b[0mretryable\u001b[0m\u001b[0;34m=\u001b[0m\u001b[0mretryable\u001b[0m\u001b[0;34m,\u001b[0m\u001b[0;34m\u001b[0m\u001b[0;34m\u001b[0m\u001b[0m\n\u001b[1;32m   1827\u001b[0m             \u001b[0moperation_id\u001b[0m\u001b[0;34m=\u001b[0m\u001b[0moperation_id\u001b[0m\u001b[0;34m,\u001b[0m\u001b[0;34m\u001b[0m\u001b[0;34m\u001b[0m\u001b[0m\n\u001b[0;32m-> 1828\u001b[0;31m         ).run()\n\u001b[0m\u001b[1;32m   1829\u001b[0m \u001b[0;34m\u001b[0m\u001b[0m\n\u001b[1;32m   1830\u001b[0m     def _retryable_read(\n",
      "\u001b[0;32m/usr/local/lib/python3.11/dist-packages/pymongo/synchronous/mongo_client.py\u001b[0m in \u001b[0;36mrun\u001b[0;34m(self)\u001b[0m\n\u001b[1;32m   2563\u001b[0m             \u001b[0mself\u001b[0m\u001b[0;34m.\u001b[0m\u001b[0m_check_last_error\u001b[0m\u001b[0;34m(\u001b[0m\u001b[0mcheck_csot\u001b[0m\u001b[0;34m=\u001b[0m\u001b[0;32mTrue\u001b[0m\u001b[0;34m)\u001b[0m\u001b[0;34m\u001b[0m\u001b[0;34m\u001b[0m\u001b[0m\n\u001b[1;32m   2564\u001b[0m             \u001b[0;32mtry\u001b[0m\u001b[0;34m:\u001b[0m\u001b[0;34m\u001b[0m\u001b[0;34m\u001b[0m\u001b[0m\n\u001b[0;32m-> 2565\u001b[0;31m                 \u001b[0;32mreturn\u001b[0m \u001b[0mself\u001b[0m\u001b[0;34m.\u001b[0m\u001b[0m_read\u001b[0m\u001b[0;34m(\u001b[0m\u001b[0;34m)\u001b[0m \u001b[0;32mif\u001b[0m \u001b[0mself\u001b[0m\u001b[0;34m.\u001b[0m\u001b[0m_is_read\u001b[0m \u001b[0;32melse\u001b[0m \u001b[0mself\u001b[0m\u001b[0;34m.\u001b[0m\u001b[0m_write\u001b[0m\u001b[0;34m(\u001b[0m\u001b[0;34m)\u001b[0m\u001b[0;34m\u001b[0m\u001b[0;34m\u001b[0m\u001b[0m\n\u001b[0m\u001b[1;32m   2566\u001b[0m             \u001b[0;32mexcept\u001b[0m \u001b[0mServerSelectionTimeoutError\u001b[0m\u001b[0;34m:\u001b[0m\u001b[0;34m\u001b[0m\u001b[0;34m\u001b[0m\u001b[0m\n\u001b[1;32m   2567\u001b[0m                 \u001b[0;31m# The application may think the write was never attempted\u001b[0m\u001b[0;34m\u001b[0m\u001b[0;34m\u001b[0m\u001b[0m\n",
      "\u001b[0;32m/usr/local/lib/python3.11/dist-packages/pymongo/synchronous/mongo_client.py\u001b[0m in \u001b[0;36m_read\u001b[0;34m(self)\u001b[0m\n\u001b[1;32m   2698\u001b[0m         \u001b[0;34m:\u001b[0m\u001b[0;32mreturn\u001b[0m\u001b[0;34m:\u001b[0m \u001b[0mOutput\u001b[0m \u001b[0;32mfor\u001b[0m \u001b[0mfunc\u001b[0m\u001b[0;34m(\u001b[0m\u001b[0;34m)\u001b[0m\u001b[0;31m'\u001b[0m\u001b[0ms\u001b[0m \u001b[0mcall\u001b[0m\u001b[0;34m\u001b[0m\u001b[0;34m\u001b[0m\u001b[0m\n\u001b[1;32m   2699\u001b[0m         \"\"\"\n\u001b[0;32m-> 2700\u001b[0;31m         \u001b[0mself\u001b[0m\u001b[0;34m.\u001b[0m\u001b[0m_server\u001b[0m \u001b[0;34m=\u001b[0m \u001b[0mself\u001b[0m\u001b[0;34m.\u001b[0m\u001b[0m_get_server\u001b[0m\u001b[0;34m(\u001b[0m\u001b[0;34m)\u001b[0m\u001b[0;34m\u001b[0m\u001b[0;34m\u001b[0m\u001b[0m\n\u001b[0m\u001b[1;32m   2701\u001b[0m         \u001b[0;32massert\u001b[0m \u001b[0mself\u001b[0m\u001b[0;34m.\u001b[0m\u001b[0m_read_pref\u001b[0m \u001b[0;32mis\u001b[0m \u001b[0;32mnot\u001b[0m \u001b[0;32mNone\u001b[0m\u001b[0;34m,\u001b[0m \u001b[0;34m\"Read Preference required on read calls\"\u001b[0m\u001b[0;34m\u001b[0m\u001b[0;34m\u001b[0m\u001b[0m\n\u001b[1;32m   2702\u001b[0m         with self._client._conn_from_server(self._read_pref, self._server, self._session) as (\n",
      "\u001b[0;32m/usr/local/lib/python3.11/dist-packages/pymongo/synchronous/mongo_client.py\u001b[0m in \u001b[0;36m_get_server\u001b[0;34m(self)\u001b[0m\n\u001b[1;32m   2654\u001b[0m         \u001b[0;34m:\u001b[0m\u001b[0;32mreturn\u001b[0m\u001b[0;34m:\u001b[0m \u001b[0mAbstraction\u001b[0m \u001b[0mto\u001b[0m \u001b[0mconnect\u001b[0m \u001b[0mto\u001b[0m \u001b[0mserver\u001b[0m\u001b[0;34m\u001b[0m\u001b[0;34m\u001b[0m\u001b[0m\n\u001b[1;32m   2655\u001b[0m         \"\"\"\n\u001b[0;32m-> 2656\u001b[0;31m         return self._client._select_server(\n\u001b[0m\u001b[1;32m   2657\u001b[0m             \u001b[0mself\u001b[0m\u001b[0;34m.\u001b[0m\u001b[0m_server_selector\u001b[0m\u001b[0;34m,\u001b[0m\u001b[0;34m\u001b[0m\u001b[0;34m\u001b[0m\u001b[0m\n\u001b[1;32m   2658\u001b[0m             \u001b[0mself\u001b[0m\u001b[0;34m.\u001b[0m\u001b[0m_session\u001b[0m\u001b[0;34m,\u001b[0m\u001b[0;34m\u001b[0m\u001b[0;34m\u001b[0m\u001b[0m\n",
      "\u001b[0;32m/usr/local/lib/python3.11/dist-packages/pymongo/synchronous/mongo_client.py\u001b[0m in \u001b[0;36m_select_server\u001b[0;34m(self, server_selector, session, operation, address, deprioritized_servers, operation_id)\u001b[0m\n\u001b[1;32m   1645\u001b[0m                     \u001b[0;32mraise\u001b[0m \u001b[0mAutoReconnect\u001b[0m\u001b[0;34m(\u001b[0m\u001b[0;34m\"server %s:%s no longer available\"\u001b[0m \u001b[0;34m%\u001b[0m \u001b[0maddress\u001b[0m\u001b[0;34m)\u001b[0m  \u001b[0;31m# noqa: UP031\u001b[0m\u001b[0;34m\u001b[0m\u001b[0;34m\u001b[0m\u001b[0m\n\u001b[1;32m   1646\u001b[0m             \u001b[0;32melse\u001b[0m\u001b[0;34m:\u001b[0m\u001b[0;34m\u001b[0m\u001b[0;34m\u001b[0m\u001b[0m\n\u001b[0;32m-> 1647\u001b[0;31m                 server = topology.select_server(\n\u001b[0m\u001b[1;32m   1648\u001b[0m                     \u001b[0mserver_selector\u001b[0m\u001b[0;34m,\u001b[0m\u001b[0;34m\u001b[0m\u001b[0;34m\u001b[0m\u001b[0m\n\u001b[1;32m   1649\u001b[0m                     \u001b[0moperation\u001b[0m\u001b[0;34m,\u001b[0m\u001b[0;34m\u001b[0m\u001b[0;34m\u001b[0m\u001b[0m\n",
      "\u001b[0;32m/usr/local/lib/python3.11/dist-packages/pymongo/synchronous/topology.py\u001b[0m in \u001b[0;36mselect_server\u001b[0;34m(self, selector, operation, server_selection_timeout, address, deprioritized_servers, operation_id)\u001b[0m\n\u001b[1;32m    398\u001b[0m     ) -> Server:\n\u001b[1;32m    399\u001b[0m         \u001b[0;34m\"\"\"Like select_servers, but choose a random server if several match.\"\"\"\u001b[0m\u001b[0;34m\u001b[0m\u001b[0;34m\u001b[0m\u001b[0m\n\u001b[0;32m--> 400\u001b[0;31m         server = self._select_server(\n\u001b[0m\u001b[1;32m    401\u001b[0m             \u001b[0mselector\u001b[0m\u001b[0;34m,\u001b[0m\u001b[0;34m\u001b[0m\u001b[0;34m\u001b[0m\u001b[0m\n\u001b[1;32m    402\u001b[0m             \u001b[0moperation\u001b[0m\u001b[0;34m,\u001b[0m\u001b[0;34m\u001b[0m\u001b[0;34m\u001b[0m\u001b[0m\n",
      "\u001b[0;32m/usr/local/lib/python3.11/dist-packages/pymongo/synchronous/topology.py\u001b[0m in \u001b[0;36m_select_server\u001b[0;34m(self, selector, operation, server_selection_timeout, address, deprioritized_servers, operation_id)\u001b[0m\n\u001b[1;32m    376\u001b[0m         \u001b[0moperation_id\u001b[0m\u001b[0;34m:\u001b[0m \u001b[0mOptional\u001b[0m\u001b[0;34m[\u001b[0m\u001b[0mint\u001b[0m\u001b[0;34m]\u001b[0m \u001b[0;34m=\u001b[0m \u001b[0;32mNone\u001b[0m\u001b[0;34m,\u001b[0m\u001b[0;34m\u001b[0m\u001b[0;34m\u001b[0m\u001b[0m\n\u001b[1;32m    377\u001b[0m     ) -> Server:\n\u001b[0;32m--> 378\u001b[0;31m         servers = self.select_servers(\n\u001b[0m\u001b[1;32m    379\u001b[0m             \u001b[0mselector\u001b[0m\u001b[0;34m,\u001b[0m \u001b[0moperation\u001b[0m\u001b[0;34m,\u001b[0m \u001b[0mserver_selection_timeout\u001b[0m\u001b[0;34m,\u001b[0m \u001b[0maddress\u001b[0m\u001b[0;34m,\u001b[0m \u001b[0moperation_id\u001b[0m\u001b[0;34m\u001b[0m\u001b[0;34m\u001b[0m\u001b[0m\n\u001b[1;32m    380\u001b[0m         )\n",
      "\u001b[0;32m/usr/local/lib/python3.11/dist-packages/pymongo/synchronous/topology.py\u001b[0m in \u001b[0;36mselect_servers\u001b[0;34m(self, selector, operation, server_selection_timeout, address, operation_id)\u001b[0m\n\u001b[1;32m    283\u001b[0m \u001b[0;34m\u001b[0m\u001b[0m\n\u001b[1;32m    284\u001b[0m         \u001b[0;32mwith\u001b[0m \u001b[0mself\u001b[0m\u001b[0;34m.\u001b[0m\u001b[0m_lock\u001b[0m\u001b[0;34m:\u001b[0m\u001b[0;34m\u001b[0m\u001b[0;34m\u001b[0m\u001b[0m\n\u001b[0;32m--> 285\u001b[0;31m             server_descriptions = self._select_servers_loop(\n\u001b[0m\u001b[1;32m    286\u001b[0m                 \u001b[0mselector\u001b[0m\u001b[0;34m,\u001b[0m \u001b[0mserver_timeout\u001b[0m\u001b[0;34m,\u001b[0m \u001b[0moperation\u001b[0m\u001b[0;34m,\u001b[0m \u001b[0moperation_id\u001b[0m\u001b[0;34m,\u001b[0m \u001b[0maddress\u001b[0m\u001b[0;34m\u001b[0m\u001b[0;34m\u001b[0m\u001b[0m\n\u001b[1;32m    287\u001b[0m             )\n",
      "\u001b[0;32m/usr/local/lib/python3.11/dist-packages/pymongo/synchronous/topology.py\u001b[0m in \u001b[0;36m_select_servers_loop\u001b[0;34m(self, selector, timeout, operation, operation_id, address)\u001b[0m\n\u001b[1;32m    333\u001b[0m                         \u001b[0mfailure\u001b[0m\u001b[0;34m=\u001b[0m\u001b[0mself\u001b[0m\u001b[0;34m.\u001b[0m\u001b[0m_error_message\u001b[0m\u001b[0;34m(\u001b[0m\u001b[0mselector\u001b[0m\u001b[0;34m)\u001b[0m\u001b[0;34m,\u001b[0m\u001b[0;34m\u001b[0m\u001b[0;34m\u001b[0m\u001b[0m\n\u001b[1;32m    334\u001b[0m                     )\n\u001b[0;32m--> 335\u001b[0;31m                 raise ServerSelectionTimeoutError(\n\u001b[0m\u001b[1;32m    336\u001b[0m                     \u001b[0;34mf\"{self._error_message(selector)}, Timeout: {timeout}s, Topology Description: {self.description!r}\"\u001b[0m\u001b[0;34m\u001b[0m\u001b[0;34m\u001b[0m\u001b[0m\n\u001b[1;32m    337\u001b[0m                 )\n",
      "\u001b[0;31mServerSelectionTimeoutError\u001b[0m: 34.147.84.54:27017: timed out (configured timeouts: socketTimeoutMS: 20000.0ms, connectTimeoutMS: 20000.0ms), Timeout: 30s, Topology Description: <TopologyDescription id: 67c9fb00c71aaf49716b1748, topology_type: Single, servers: [<ServerDescription ('34.147.84.54', 27017) server_type: Unknown, rtt: None, error=NetworkTimeout('34.147.84.54:27017: timed out (configured timeouts: socketTimeoutMS: 20000.0ms, connectTimeoutMS: 20000.0ms)')>]>"
     ]
    }
   ],
   "source": [
    "mongodb.heroes.find_one({'name': 'Tiny'})"
   ]
  },
  {
   "cell_type": "markdown",
   "metadata": {
    "id": "BZWHBg9dK6wi"
   },
   "source": [
    "# Querys con **LIKE**"
   ]
  },
  {
   "cell_type": "markdown",
   "metadata": {
    "id": "RxK93w2uK-7O"
   },
   "source": [
    "### PostgreSQL"
   ]
  },
  {
   "cell_type": "code",
   "execution_count": 19,
   "metadata": {
    "colab": {
     "base_uri": "https://localhost:8080/"
    },
    "executionInfo": {
     "elapsed": 141,
     "status": "ok",
     "timestamp": 1741289810939,
     "user": {
      "displayName": "David Sotelo",
      "userId": "06087624202067056946"
     },
     "user_tz": -60
    },
    "id": "C0TUO7OALHCQ",
    "outputId": "08476b04-58f7-4056-f5e5-2544bfb9f36b"
   },
   "outputs": [
    {
     "data": {
      "text/plain": [
       "(4,\n",
       " 'Blades_of_Attack',\n",
       " 'The damage of these small, concealable blades should not be underestimated.',\n",
       " ' +9 Damage',\n",
       " 450,\n",
       " datetime.datetime(2017, 6, 13, 20, 23, 51, 730051))"
      ]
     },
     "execution_count": 19,
     "metadata": {},
     "output_type": "execute_result"
    }
   ],
   "source": [
    "# Hagamos una consulta que nos devuelva todo aquello de la tabla items donde la descripción contiene blade y más cosas\n",
    "postgres.execute(\"SELECT * FROM items WHERE description ilike '%blade%'\")\n",
    "postgres.fetchone()"
   ]
  },
  {
   "cell_type": "markdown",
   "metadata": {
    "id": "GYnWxqa7LPmJ"
   },
   "source": [
    "### MongoDB"
   ]
  },
  {
   "cell_type": "code",
   "execution_count": null,
   "metadata": {
    "executionInfo": {
     "elapsed": 12,
     "status": "aborted",
     "timestamp": 1741290276283,
     "user": {
      "displayName": "David Sotelo",
      "userId": "06087624202067056946"
     },
     "user_tz": -60
    },
    "id": "gRmJywxnLXV4"
   },
   "outputs": [],
   "source": [
    "mongodb.heroes.find_one({\"lore\": {\"$regex\": \".*blade.*\"}}) #Lore es un documento dentro de los documentos de mongo"
   ]
  },
  {
   "cell_type": "markdown",
   "metadata": {
    "id": "2cDz3BfiO4uZ"
   },
   "source": [
    "# Count"
   ]
  },
  {
   "cell_type": "markdown",
   "metadata": {
    "id": "gj6W7K49PF8X"
   },
   "source": [
    "# PostgreSQL"
   ]
  },
  {
   "cell_type": "code",
   "execution_count": 34,
   "metadata": {
    "colab": {
     "base_uri": "https://localhost:8080/"
    },
    "executionInfo": {
     "elapsed": 277,
     "status": "ok",
     "timestamp": 1741290542701,
     "user": {
      "displayName": "David Sotelo",
      "userId": "06087624202067056946"
     },
     "user_tz": -60
    },
    "id": "oV7TTQJRPDgA",
    "outputId": "8d49e99d-733b-4cc6-c9c5-80e1db6f54bb"
   },
   "outputs": [
    {
     "data": {
      "text/plain": [
       "(25,)"
      ]
     },
     "execution_count": 34,
     "metadata": {},
     "output_type": "execute_result"
    }
   ],
   "source": [
    "# Vamos a devolver el número de filas que existen en la tabla heroes cuando tipo sea Strength\n",
    "postgres.execute(\"SELECT COUNT(1) FROM heroes where type = 'Strength'\")# CONTINÚA LA CONSULTA...\n",
    "postgres.fetchone()"
   ]
  },
  {
   "cell_type": "markdown",
   "metadata": {
    "id": "ye0b65WdPIeF"
   },
   "source": [
    "### MongoDB"
   ]
  },
  {
   "cell_type": "code",
   "execution_count": 35,
   "metadata": {
    "colab": {
     "base_uri": "https://localhost:8080/",
     "height": 105
    },
    "executionInfo": {
     "elapsed": 9,
     "status": "error",
     "timestamp": 1741290549287,
     "user": {
      "displayName": "David Sotelo",
      "userId": "06087624202067056946"
     },
     "user_tz": -60
    },
    "id": "-pmzwlLfPKe0",
    "outputId": "bc787d41-31c3-4b03-e84f-a09370b25273"
   },
   "outputs": [
    {
     "ename": "SyntaxError",
     "evalue": "incomplete input (<ipython-input-35-12c055552670>, line 1)",
     "output_type": "error",
     "traceback": [
      "\u001b[0;36m  File \u001b[0;32m\"<ipython-input-35-12c055552670>\"\u001b[0;36m, line \u001b[0;32m1\u001b[0m\n\u001b[0;31m    mongodb.heroes.count_documents({\"type\": #CONTINÚA LA CONSULTA})\u001b[0m\n\u001b[0m                                                                   ^\u001b[0m\n\u001b[0;31mSyntaxError\u001b[0m\u001b[0;31m:\u001b[0m incomplete input\n"
     ]
    }
   ],
   "source": [
    "mongodb.heroes.count_documents({\"type\":\"Strength\"} #CONTINÚA LA CONSULTA})"
   ]
  },
  {
   "cell_type": "markdown",
   "metadata": {
    "id": "aiiE_R60RYMP"
   },
   "source": [
    "# Nuevas Colecciones/Tablas"
   ]
  },
  {
   "cell_type": "markdown",
   "metadata": {
    "id": "U6GoPY9wRbun"
   },
   "source": [
    "### PostgreSQL"
   ]
  },
  {
   "cell_type": "code",
   "execution_count": 36,
   "metadata": {
    "executionInfo": {
     "elapsed": 528,
     "status": "ok",
     "timestamp": 1741290752867,
     "user": {
      "displayName": "David Sotelo",
      "userId": "06087624202067056946"
     },
     "user_tz": -60
    },
    "id": "ljpWjSj8ReKo"
   },
   "outputs": [],
   "source": [
    "# Crea la tabla quests con cuatro columnas: ID, name, description, y exp.\n",
    "\n",
    "try: #indicar dentro de un paquete try para poder evitar problemas que bloqueen\n",
    "  postgres.execute(\"\"\"\n",
    "CREATE TABLE quests(\n",
    "   ID           INT PRIMARY KEY NOT NULL,\n",
    "   name         CHAR(50) NOT NULL,\n",
    "   description  CHAR(250) NOT NULL,\n",
    "   exp          INT NOT NULL\n",
    ")\"\"\")\n",
    "  conn.commit() # si esta bien hace un commit\n",
    "except: # sino sale bien reintenta ejecutarlo\n",
    "  conn.rollback()\n",
    "  print(\"table exists\")\n",
    "\n",
    "postgres.execute(\"SELECT * FROM quests\")\n",
    "postgres.fetchone()"
   ]
  },
  {
   "cell_type": "markdown",
   "metadata": {
    "id": "dyRzWggpRi5V"
   },
   "source": [
    "### MongoDB"
   ]
  },
  {
   "cell_type": "code",
   "execution_count": null,
   "metadata": {
    "id": "NOq_-4juRkiu"
   },
   "outputs": [],
   "source": [
    "# Inserta un nuevo documento en la colección quests y luego recupera el primer documento de esa colección.\n",
    "\n",
    "mongodb.quests.insert_one({ #mencionamos una nueva coleccion no existente de nombre quests y asi la crea\n",
    "    \"name\": \"find sword\",\n",
    "    \"description\": \"Find the hidden sword\",\n",
    "    \"exp\": 500\n",
    "    })\n",
    "mongodb.quests.find_one()"
   ]
  },
  {
   "cell_type": "code",
   "execution_count": null,
   "metadata": {
    "id": "9G7zS-MHRr2N"
   },
   "outputs": [],
   "source": [
    "mongodb.quests.insert_one({ #no hace falta crear la coleccion , mete el documento en quest(que ya existe)\n",
    "    \"result\": 500,\n",
    "    \"id\": 1\n",
    "    })\n",
    "\n",
    "mongodb.quests.find_one({\"id\": 1}) #busca el id que sea 1"
   ]
  },
  {
   "cell_type": "markdown",
   "metadata": {
    "id": "ypXsfAoERvfQ"
   },
   "source": [
    "# Inserción de datos"
   ]
  },
  {
   "cell_type": "markdown",
   "metadata": {
    "id": "kwUJoAscRzDT"
   },
   "source": [
    "### PostgreSQL"
   ]
  },
  {
   "cell_type": "code",
   "execution_count": 37,
   "metadata": {
    "colab": {
     "base_uri": "https://localhost:8080/"
    },
    "executionInfo": {
     "elapsed": 259,
     "status": "ok",
     "timestamp": 1741291240597,
     "user": {
      "displayName": "David Sotelo",
      "userId": "06087624202067056946"
     },
     "user_tz": -60
    },
    "id": "gR3fAMcIR0nB",
    "outputId": "e578cc8a-0e20-4ac0-c2ba-8b173e9be3c7"
   },
   "outputs": [
    {
     "data": {
      "text/plain": [
       "(100,\n",
       " 'find sword                                        ',\n",
       " 'Find the hidden sword                                                                                                                                                                                                                                     ',\n",
       " 500)"
      ]
     },
     "execution_count": 37,
     "metadata": {},
     "output_type": "execute_result"
    }
   ],
   "source": [
    "# Vamos a insertar: INSERT INTO quests (id, name, description, exp) VALUES (100, 'find sword', 'Find the hidden sword', 500)\n",
    "try:\n",
    "  postgres.execute(\"\"\"\n",
    "  INSERT INTO quests (id, name, description, exp) VALUES (100, 'find sword', 'Find the hidden sword', 500)\n",
    "  \"\"\")\n",
    "except:\n",
    "  conn.rollback()\n",
    "  print(\"INSERT ALREADY DONE BY OTHER STUDENT\")\n",
    "\n",
    "\n",
    "postgres.execute(\"select * from quests\")\n",
    "postgres.fetchone()"
   ]
  },
  {
   "cell_type": "markdown",
   "metadata": {
    "id": "gnvIgJYzR4m-"
   },
   "source": [
    "### MongoDB"
   ]
  },
  {
   "cell_type": "code",
   "execution_count": null,
   "metadata": {
    "id": "FJ48btDyR6oO"
   },
   "outputs": [],
   "source": [
    "# Ahora insertemos en Mongo al personaje con nombre: Squall y valor: 1 en realidad se han incorporado 2 docs\n",
    "mongodb.quests.insert_many([\n",
    "    {\n",
    "        \"nombre\": \"Squall\"\n",
    "    },\n",
    "    {\n",
    "        \"valor\": 1\n",
    "     }\n",
    "])\n",
    "quests = mongodb.quests.find()\n",
    "for quest in quests:\n",
    "  print(quest)"
   ]
  },
  {
   "cell_type": "markdown",
   "metadata": {
    "id": "2IizTZduSJ5L"
   },
   "source": [
    "__NOTA:__ Los documentos en MongoDB no tienen restricciones de insercion por primary key (se duplican)."
   ]
  },
  {
   "cell_type": "markdown",
   "metadata": {
    "id": "kXdlJvFZSLX_"
   },
   "source": [
    "# Joins"
   ]
  },
  {
   "cell_type": "markdown",
   "metadata": {
    "id": "BkGjDWG9SN3K"
   },
   "source": [
    "### PostgreSQL"
   ]
  },
  {
   "cell_type": "code",
   "execution_count": 38,
   "metadata": {
    "colab": {
     "base_uri": "https://localhost:8080/"
    },
    "executionInfo": {
     "elapsed": 139,
     "status": "ok",
     "timestamp": 1741291380647,
     "user": {
      "displayName": "David Sotelo",
      "userId": "06087624202067056946"
     },
     "user_tz": -60
    },
    "id": "vSxGwMY9SPyH",
    "outputId": "3b3e4b77-954c-4a34-ab5c-7849db21db25"
   },
   "outputs": [
    {
     "name": "stdout",
     "output_type": "stream",
     "text": [
      "(139,\n",
      " 'Pugna',\n",
      " 'Intelligence',\n",
      " 'More information required... Dota 2:',\n",
      " datetime.datetime(2017, 6, 13, 20, 20, 18, 898552),\n",
      " 523,\n",
      " 'Nether Blast',\n",
      " 'An exploding pulse deals damage to enemies and structures in the area. Deals '\n",
      " 'half damage to structures. The Arts of Oblivion include a deafening blast of '\n",
      " 'emerald flames from the Nether Reaches.\\n',\n",
      " 139,\n",
      " datetime.datetime(2017, 6, 13, 20, 20, 18, 919084))\n",
      "(139,\n",
      " 'Pugna',\n",
      " 'Intelligence',\n",
      " 'More information required... Dota 2:',\n",
      " datetime.datetime(2017, 6, 13, 20, 20, 18, 898552),\n",
      " 524,\n",
      " 'Decrepify',\n",
      " 'A powerful banishing spell that slows a unit and renders it unable to attack '\n",
      " 'or be attacked. Afflicted units take extra magic damage. A now-mastered '\n",
      " 'relic from his childhood, Pugna delights in banishing others into the Nether '\n",
      " 'Realm, whether for good, evil, or simple enjoyment.\\n',\n",
      " 139,\n",
      " datetime.datetime(2017, 6, 13, 20, 20, 18, 919811))\n",
      "(139,\n",
      " 'Pugna',\n",
      " 'Intelligence',\n",
      " 'More information required... Dota 2:',\n",
      " datetime.datetime(2017, 6, 13, 20, 20, 18, 898552),\n",
      " 525,\n",
      " 'Nether Ward',\n",
      " 'Pugna places a nether ward that fires mana flares at enemy heroes who dare '\n",
      " 'to cast spells, while also causing them to lose mana. Nether Ward deals '\n",
      " 'damage equal to the damage multiplier times the mana spent by the enemy '\n",
      " 'hero. Lasts 30 seconds. While at the lamasery for the Arts of Oblivion, '\n",
      " 'Pugna learned to dominate his classmates with a simple ward charged with '\n",
      " 'Nether magic.\\n',\n",
      " 139,\n",
      " datetime.datetime(2017, 6, 13, 20, 20, 18, 921086))\n",
      "(139,\n",
      " 'Pugna',\n",
      " 'Intelligence',\n",
      " 'More information required... Dota 2:',\n",
      " datetime.datetime(2017, 6, 13, 20, 20, 18, 898552),\n",
      " 526,\n",
      " 'Life Drain',\n",
      " 'Channeled – When cast on an enemy, Pugna drains health from the target enemy '\n",
      " 'unit to heal himself. If Pugna has full HP, and the enemy target is a Hero, '\n",
      " 'Life Drain will restore mana instead. When cast on an ally, Pugna will drain '\n",
      " 'his own health into his ally.\\n'\n",
      " \"Upgraded by Aghanim's Scepter: Increases drain per second and sets cooldown \"\n",
      " 'time to zero.* Pugna has truly become more powerful than even the '\n",
      " 'grandmaster of Oblivion.\\n'\n",
      " '\\n',\n",
      " 139,\n",
      " datetime.datetime(2017, 6, 13, 20, 20, 18, 921792))\n"
     ]
    }
   ],
   "source": [
    "# Vamos a buscar en todas las columnas de las tablas heroes y skills cuando el nombre sea 'Pugna'\n",
    "#evitar bloqueos con el try except\n",
    "\n",
    "try:\n",
    "  postgres.execute(\"\"\"\n",
    "  SELECT * FROM heroes\n",
    "  LEFT JOIN skills on skills.hero_id = heroes.id\n",
    "  WHERE heroes.name = 'Pugna'\n",
    "  \"\"\")\n",
    "  heroes_skills = postgres.fetchall()\n",
    "except:\n",
    "  conn.rollback()\n",
    "  print(\"INSERT ALREADY DONE BY OTHER STUDENT\")\n",
    "\n",
    "for hero in heroes_skills:\n",
    "    pprint(hero)"
   ]
  },
  {
   "cell_type": "markdown",
   "metadata": {
    "id": "uA8tNUW1SYAZ"
   },
   "source": [
    "### MongoDB"
   ]
  },
  {
   "cell_type": "code",
   "execution_count": null,
   "metadata": {
    "id": "7VRNkhHeSaq3"
   },
   "outputs": [],
   "source": [
    "mongodb.heroes.find_one( # facilidad de busqueda en mongo , no hace falta joins .Se podria hacer tambien try except, aunque el riesgo es menor por se una consulta\n",
    "    {\n",
    "        \"name\": \"Pugna\"\n",
    "    }\n",
    "    )"
   ]
  },
  {
   "cell_type": "markdown",
   "metadata": {
    "id": "vDBo2-roSjts"
   },
   "source": [
    "**No hay que hacer Joins!**"
   ]
  },
  {
   "cell_type": "markdown",
   "metadata": {
    "id": "jaSw7V4aSmhQ"
   },
   "source": [
    "# Modificar tablas - Añadir columnas"
   ]
  },
  {
   "cell_type": "markdown",
   "metadata": {
    "id": "HFs_SUJxSrkV"
   },
   "source": [
    "### PostgreSQL"
   ]
  },
  {
   "cell_type": "code",
   "execution_count": 41,
   "metadata": {
    "colab": {
     "base_uri": "https://localhost:8080/"
    },
    "executionInfo": {
     "elapsed": 256,
     "status": "ok",
     "timestamp": 1741291774801,
     "user": {
      "displayName": "David Sotelo",
      "userId": "06087624202067056946"
     },
     "user_tz": -60
    },
    "id": "L_LtxLT4SukZ",
    "outputId": "520152f5-60a5-42b1-87c3-b61ef51bd4b1"
   },
   "outputs": [
    {
     "name": "stdout",
     "output_type": "stream",
     "text": [
      "ALTER ALREADY DONE BY OTHER STUDENT\n"
     ]
    }
   ],
   "source": [
    "# Vamos a agegar a la tabla heroes la columna 'favorite_items'\n",
    "\n",
    "try:\n",
    "  postgres.execute(\"\"\"\n",
    "  alter table heroes add column favorite_items varchar(300) default\n",
    "  \"\"\"      )\n",
    "  conn.commit()\n",
    "except:\n",
    "  conn.rollback()\n",
    "  print(\"ALTER ALREADY DONE BY OTHER STUDENT\")"
   ]
  },
  {
   "cell_type": "code",
   "execution_count": null,
   "metadata": {
    "id": "QRsipXu6Sw8n"
   },
   "outputs": [],
   "source": [
    "# Vamos a actualizar el valor de la tabla heroes estableciendo el valor de la columna 'favorite_items'\n",
    "# a 'Teleport Scroll, magic wand, sword' cuando el name sea 'Tiny'\n",
    "try:\n",
    "  postgres.execute(#Aquí tu código#hay que incluir aqui el codigo\n",
    "                   )\n",
    "  conn.commit()\n",
    "except:\n",
    "  conn.rollback()\n",
    "  print(\"UPDATE ALREADY DONE BY OTHER STUDENT\")\n",
    "\n",
    "postgres.execute(\"select * from heroes where name = 'Tiny'\")\n",
    "postgres.fetchone()"
   ]
  },
  {
   "cell_type": "markdown",
   "metadata": {
    "id": "7PfQ6Y0YS3Dk"
   },
   "source": [
    "### MongoDB"
   ]
  },
  {
   "cell_type": "code",
   "execution_count": null,
   "metadata": {
    "id": "E9k2n4yBS4m_"
   },
   "outputs": [],
   "source": [
    "# actualiza todos los documentos en la colección heroes donde el campo \"name\" es \"Tiny\" poniendo como \"favorite_items\" 'Teleport Scroll, magic wand, sword'\n",
    "\n",
    "mongodb.heroes.update_many( #funciona con documentos Json\n",
    "\t#Aquí tu código\n",
    "\t {\"name\": \"Tiny\"},\n",
    "\t {\"$Set\": {\"favorite_items\": \"Teleport Scroll, magic wand, sword\" }}\n",
    ")\n",
    "mongodb.heroes.find_one({\"name\": \"Tiny\"})"
   ]
  },
  {
   "cell_type": "markdown",
   "metadata": {
    "id": "B6VYL_3iS8pS"
   },
   "source": [
    "# Relacionar datos nuevos entre tablas/colecciones"
   ]
  },
  {
   "cell_type": "markdown",
   "metadata": {
    "id": "tcioyCfITA1u"
   },
   "source": [
    "### PostgreSQL"
   ]
  },
  {
   "cell_type": "code",
   "execution_count": 42,
   "metadata": {
    "colab": {
     "base_uri": "https://localhost:8080/"
    },
    "executionInfo": {
     "elapsed": 630,
     "status": "ok",
     "timestamp": 1741292216110,
     "user": {
      "displayName": "David Sotelo",
      "userId": "06087624202067056946"
     },
     "user_tz": -60
    },
    "id": "oGBjFjVyTDLE",
    "outputId": "1f641e44-14d5-42d0-d365-374fa38e3dbe"
   },
   "outputs": [
    {
     "name": "stdout",
     "output_type": "stream",
     "text": [
      "INSERT ALREADY DONE BY OTHER STUDENT\n"
     ]
    }
   ],
   "source": [
    "# Vamos a ponerle al heroe con id 33 el item con id 26 -> insertar una nueva fila en la tabla heroes_items con los valores hero_id = 33 e item_id = 26\n",
    "try:\n",
    "  postgres.execute(\n",
    "      \"\"\"Insert into heroes_items (heroe_id, item_id) Values(33,26)\n",
    "      \"\"\"             )\n",
    "  conn.commit()\n",
    "except:\n",
    "  conn.rollback()\n",
    "  print(\"INSERT ALREADY DONE BY OTHER STUDENT\")\n",
    "\n",
    "postgres.execute(\"select * from heroes_items\")\n",
    "postgres.fetchone()"
   ]
  },
  {
   "cell_type": "code",
   "execution_count": 43,
   "metadata": {
    "colab": {
     "base_uri": "https://localhost:8080/"
    },
    "executionInfo": {
     "elapsed": 132,
     "status": "ok",
     "timestamp": 1741292337699,
     "user": {
      "displayName": "David Sotelo",
      "userId": "06087624202067056946"
     },
     "user_tz": -60
    },
    "id": "PrhW928_TUK1",
    "outputId": "b4a86d69-dc92-4bb5-e793-3de7cded5362"
   },
   "outputs": [
    {
     "data": {
      "text/plain": [
       "(33,\n",
       " 'Goblin_Techies',\n",
       " 'Intelligence',\n",
       " '',\n",
       " datetime.datetime(2017, 6, 12, 16, 11, 30, 469745),\n",
       " None,\n",
       " None,\n",
       " None,\n",
       " None,\n",
       " None,\n",
       " None,\n",
       " None,\n",
       " None,\n",
       " None,\n",
       " None)"
      ]
     },
     "execution_count": 43,
     "metadata": {},
     "output_type": "execute_result"
    }
   ],
   "source": [
    "postgres.execute(\"\"\"\n",
    "    SELECT * FROM heroes\n",
    "    LEFT JOIN heroes_items ON heroes.id = heroes_items.hero_id\n",
    "    LEFT JOIN items ON heroes_items.item_id = items.id\n",
    "    WHERE heroes.id = 33;\n",
    "\"\"\")\n",
    "postgres.fetchone()"
   ]
  },
  {
   "cell_type": "markdown",
   "metadata": {
    "id": "KIXlLFsxTg2B"
   },
   "source": [
    "### MongoDB"
   ]
  },
  {
   "cell_type": "code",
   "execution_count": null,
   "metadata": {
    "id": "_Tu8pDjDTilH"
   },
   "outputs": [],
   "source": [
    "# Aquí la relación se hace de otra forma! -> Ahora vamos a agregar al heroe con name 'Visage' el item 'Blades_of_Attack'\n",
    "\n",
    "mongodb.heroes.update_one(\n",
    "\t{\"name\": \"Visage\"},\n",
    "\t{\"$push\" \"\"\"metes una nueva relacion por eso no es set \"\"\" : {\"items\": mongodb.items.find_one({\"name\": \"Blades_of_Attack\"})}}\n",
    ")\n",
    "mongodb.heroes.find_one({\"name\": \"Visage\"})"
   ]
  },
  {
   "cell_type": "markdown",
   "metadata": {
    "id": "-YLygiEST0BV"
   },
   "source": [
    "# Modificar datos existentes"
   ]
  },
  {
   "cell_type": "markdown",
   "metadata": {
    "id": "9hePcpyGT3DJ"
   },
   "source": [
    "### PostgreSQL"
   ]
  },
  {
   "cell_type": "code",
   "execution_count": null,
   "metadata": {
    "id": "69ifeBR6T40a"
   },
   "outputs": [],
   "source": [
    "# Vamos a actualizar el valor de Sacred_Relic a MEGA SWORD\n",
    "try:\n",
    "  postgres.execute(#Aquí tu código#\n",
    "                   \"\"\" update items set name = \" MEGA SWORD\" WHERE\n",
    "                   )\n",
    "  conn.commit()\n",
    "except:\n",
    "  conn.rollback()\n",
    "  print(\"UPDATE ALREADY DONE BY OTHER STUDENT\")"
   ]
  },
  {
   "cell_type": "code",
   "execution_count": null,
   "metadata": {
    "id": "OJJbw1ANT-Ha"
   },
   "outputs": [],
   "source": [
    "postgres.execute(\"\"\"\n",
    "    SELECT * FROM heroes\n",
    "    LEFT JOIN heroes_items ON heroes.id = heroes_items.hero_id\n",
    "    LEFT JOIN items ON heroes_items.item_id = items.id\n",
    "    WHERE heroes.id = 33\n",
    "\"\"\")\n",
    "postgres.fetchone()"
   ]
  },
  {
   "cell_type": "markdown",
   "metadata": {
    "id": "px9NjTx-UBm4"
   },
   "source": [
    "### MongoDB"
   ]
  },
  {
   "cell_type": "code",
   "execution_count": null,
   "metadata": {
    "id": "F3zltOjcUDTZ"
   },
   "outputs": [],
   "source": [
    "mongodb.heroes.update_one(\n",
    "\t{\"name\": \"Visage\"},\n",
    "\t{\"$pull\": {\"items\": {\"name\": \"Blades_of_Attack\"}}}\n",
    ")\n",
    "mongodb.heroes.find_one(\n",
    "    {\n",
    "    \"name\": \"Visage\"\n",
    "    })"
   ]
  },
  {
   "cell_type": "code",
   "execution_count": null,
   "metadata": {
    "id": "V3nm-ZOFUTKs"
   },
   "outputs": [],
   "source": [
    "mongodb.heroes.update_one(\n",
    "\t{\"name\": \"Visage\"},\n",
    "\t{\"$set\": {\"name\": \"MEGA Blades of Attack\"}}\n",
    ")\n",
    "mongodb.heroes.find_one({\"name\": \"MEGA Blades of Attack\"})"
   ]
  },
  {
   "cell_type": "code",
   "execution_count": null,
   "metadata": {
    "id": "fTaFjlngUaz1"
   },
   "outputs": [],
   "source": [
    "mongodb.heroes.update_one(\n",
    "\t{\"name\": \"Visage\"},\n",
    "\t{\"$push\": {\"items\": mongodb.items.find_one({\"name\": \"Visage\"})}}\n",
    ")\n",
    "mongodb.heroes.find_one(\n",
    "    {\n",
    "    \"name\": \"MEGA Blades of Attack\"\n",
    "    })"
   ]
  },
  {
   "cell_type": "markdown",
   "metadata": {
    "id": "mGxySNQhVFHL"
   },
   "source": [
    "# Borrar elementos"
   ]
  },
  {
   "cell_type": "markdown",
   "metadata": {
    "id": "wjHlQ3LUVHAv"
   },
   "source": [
    "### PostgreSQL"
   ]
  },
  {
   "cell_type": "code",
   "execution_count": null,
   "metadata": {
    "id": "V_4PwEQEWTcG"
   },
   "outputs": [],
   "source": [
    "# Borremos el elemento MEGA SWORD de la tabla items\n",
    "try:\n",
    "  postgres.execute(#Aquí tu código#\n",
    "                   )\n",
    "  conn.commit()\n",
    "except:\n",
    "  conn.rollback()\n",
    "  print(\"DELETE ALREADY DONE BY OTHER STUDENT\")"
   ]
  },
  {
   "cell_type": "markdown",
   "metadata": {
    "id": "RzCWuBU-WkX5"
   },
   "source": [
    "NOTA: Al fallar, lo ideal seria cambiar el constraint:\n",
    "\n",
    "\n",
    "```\n",
    "ALTER TABLE table_y   \n",
    "    DROP CONSTRAINT constraint_name,   \n",
    "    ADD CONSTRAINT constraint_name FOREIGN KEY (column_in_table_y)\n",
    "          REFERENCES table_x (referenced_column_in_table_x) ON DELETE CASCADE;\n",
    "```"
   ]
  },
  {
   "cell_type": "markdown",
   "metadata": {
    "id": "QW5HTvdJWr2Y"
   },
   "source": [
    "### MongoDB"
   ]
  },
  {
   "cell_type": "code",
   "execution_count": null,
   "metadata": {
    "id": "XVDB7uhEWu1N"
   },
   "outputs": [],
   "source": [
    "mongodb.items.delete_one( {\"name\": \"MEGA Blades of Attack\"} )\n",
    "mongodb.heroes.find_one(\n",
    "    {\n",
    "    \"name\": \"Visage\"\n",
    "    })"
   ]
  },
  {
   "cell_type": "code",
   "execution_count": null,
   "metadata": {
    "id": "HbPn2W35Wu-c"
   },
   "outputs": [],
   "source": [
    "mongodb.heroes.update_one(\n",
    "\t{\"name\": \"Visage\"},\n",
    "\t{\"$pull\": {\"items\": {\"name\": \"MEGA Blades of Attack\"}}}\n",
    ")\n",
    "mongodb.heroes.find_one(\n",
    "    {\n",
    "    \"name\": \"Visage\"\n",
    "    })"
   ]
  },
  {
   "cell_type": "markdown",
   "metadata": {
    "id": "da3bYJMDWzAx"
   },
   "source": [
    "# Agrupar (GROUP BY / ORDER BY)"
   ]
  },
  {
   "cell_type": "markdown",
   "metadata": {
    "id": "suCmqbcpW3Yn"
   },
   "source": [
    "### PostgreSQL"
   ]
  },
  {
   "cell_type": "code",
   "execution_count": null,
   "metadata": {
    "id": "xnFRmYmbW54e"
   },
   "outputs": [],
   "source": [
    "# Cuenta cuántos héroes hay por cada tipo en la tabla heroes y los ordena de manera descendente.\n",
    "\n",
    "postgres.execute(\"\"\"\n",
    "SELECT type, count(*) FROM heroes GROUP BY type ORDER BY type DESC;\n",
    "\"\"\")\n",
    "hero_types = postgres.fetchall()\n",
    "\n",
    "for hero in hero_types:\n",
    "    pprint(hero)"
   ]
  },
  {
   "cell_type": "markdown",
   "metadata": {
    "id": "qpd2Aoh1W9Ye"
   },
   "source": [
    "### MongoDB"
   ]
  },
  {
   "cell_type": "code",
   "execution_count": null,
   "metadata": {
    "id": "b0VtzULNXBg2"
   },
   "outputs": [],
   "source": [
    "# Agregación para contar cuántos héroes hay por cada tipo en la colección heroes\n",
    "\n",
    "aggregation = mongodb.heroes.aggregate([\n",
    "    {\"$group\" : {\"_id\": \"$type\", \"count\": {\"$sum\": 1}}}\n",
    "])\n",
    "for results in aggregation:\n",
    "    print(results)"
   ]
  }
 ],
 "metadata": {
  "colab": {
   "provenance": []
  },
  "kernelspec": {
   "display_name": "Python 3",
   "name": "python3"
  },
  "language_info": {
   "name": "python"
  }
 },
 "nbformat": 4,
 "nbformat_minor": 0
}
